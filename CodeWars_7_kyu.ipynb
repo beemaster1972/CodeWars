{
  "nbformat": 4,
  "nbformat_minor": 0,
  "metadata": {
    "colab": {
      "provenance": [],
      "authorship_tag": "ABX9TyOsLpmqJ+2L05q9ZhcAY6qQ",
      "include_colab_link": true
    },
    "kernelspec": {
      "name": "python3",
      "display_name": "Python 3"
    },
    "language_info": {
      "name": "python"
    }
  },
  "cells": [
    {
      "cell_type": "markdown",
      "metadata": {
        "id": "view-in-github",
        "colab_type": "text"
      },
      "source": [
        "<a href=\"https://colab.research.google.com/github/beemaster1972/CodeWars/blob/main/CodeWars_7_kyu.ipynb\" target=\"_parent\"><img src=\"https://colab.research.google.com/assets/colab-badge.svg\" alt=\"Open In Colab\"/></a>"
      ]
    },
    {
      "cell_type": "markdown",
      "source": [
        "#Number of People in the Bus"
      ],
      "metadata": {
        "id": "l3e0t9J-vxFC"
      }
    },
    {
      "cell_type": "markdown",
      "source": [
        "There is a bus moving in the city which takes and drops some people at each bus stop.\n",
        "\n",
        "You are provided with a list (or array) of integer pairs. Elements of each pair represent the number of people that get on the bus (the first item) and the number of people that get off the bus (the second item) at a bus stop.\n",
        "\n",
        "Your task is to return the number of people who are still on the bus after the last bus stop (after the last array). Even though it is the last bus stop, the bus might not be empty and some people might still be inside the bus, they are probably sleeping there :D\n",
        "\n",
        "Take a look on the test cases.\n",
        "\n",
        "Please keep in mind that the test cases ensure that the number of people in the bus is always >= 0. So the returned integer can't be negative.\n",
        "\n",
        "The second value in the first pair in the array is 0, since the bus is empty in the first bus stop."
      ],
      "metadata": {
        "id": "1S35YGfewe1n"
      }
    },
    {
      "cell_type": "code",
      "source": [
        "def number(bus_stops):\n",
        "  return sum([bs[0]-bs[1] for bs in bus_stops])\n",
        "\n",
        "print(number([[3,0],[9,1],[4,10],[12,2],[6,1],[7,10]]))\n",
        "print(number([[3,0],[9,1],[4,8],[12,2],[6,1],[7,8]]))\n",
        "print(number([[10,0],[3,5],[5,8]]))"
      ],
      "metadata": {
        "colab": {
          "base_uri": "https://localhost:8080/"
        },
        "id": "NUH4YH9_wra2",
        "outputId": "f424fec4-262d-463e-9073-8d4abde739bd"
      },
      "execution_count": 4,
      "outputs": [
        {
          "output_type": "stream",
          "name": "stdout",
          "text": [
            "17\n",
            "21\n",
            "5\n"
          ]
        }
      ]
    },
    {
      "cell_type": "code",
      "source": [],
      "metadata": {
        "id": "ouzXAmet8OOp"
      },
      "execution_count": null,
      "outputs": []
    },
    {
      "cell_type": "markdown",
      "source": [
        "#Simple Pig Latin"
      ],
      "metadata": {
        "id": "3H-sy9s08H5C"
      }
    },
    {
      "cell_type": "markdown",
      "source": [
        "Move the first letter of each word to the end of it, then add \"ay\" to the end of the word. Leave punctuation marks untouched.\n",
        "\n",
        "Examples\n",
        "pig_it('Pig latin is cool') # igPay atinlay siay oolcay\n",
        "pig_it('Hello world !')     # elloHay orldway !"
      ],
      "metadata": {
        "id": "S4lNh9VPwSG5"
      }
    },
    {
      "cell_type": "code",
      "source": [
        "def pig_it(text):\n",
        "    # your code here\n",
        "    words = re.findall(r\"[\\w]+|[,.?!]\", text)\n",
        "    words = [word[1:] + word[0] + 'ay' if word not in ',.?!' else word for word in words]\n",
        "\n",
        "    return \" \".join(words)"
      ],
      "metadata": {
        "id": "zzhiQMDg8Vpo"
      },
      "execution_count": 11,
      "outputs": []
    },
    {
      "cell_type": "code",
      "source": [],
      "metadata": {
        "id": "3cPKHgxi8-6E"
      },
      "execution_count": null,
      "outputs": []
    },
    {
      "cell_type": "markdown",
      "source": [],
      "metadata": {
        "id": "e8ysfj5ZFV1v"
      }
    },
    {
      "cell_type": "markdown",
      "source": [
        "#Array.diff"
      ],
      "metadata": {
        "id": "gpGc8VA6FX28"
      }
    },
    {
      "cell_type": "markdown",
      "source": [
        "DESCRIPTION:\n",
        "Your goal in this kata is to implement a difference function, which subtracts one list from another and returns the result.\n",
        "\n",
        "It should remove all values from list a, which are present in list b keeping their order.\n",
        "\n",
        "array_diff([1,2],[1]) == [2]\n",
        "If a value is present in b, all of its occurrences must be removed from the other:\n",
        "\n",
        "array_diff([1,2,2,2,3],[2]) == [1,3]"
      ],
      "metadata": {
        "id": "Bmx0psQ8Fki4"
      }
    },
    {
      "cell_type": "code",
      "source": [
        "def array_diff(a, b):\n",
        "    #your code here\n",
        "    set_a, set_b = set(a), set(b)\n",
        "    set_c = set_a - set_b\n",
        "    return [x for x in a if x in set_c]\n",
        "\n",
        "print(array_diff([1,2,3,4,4,5,4,6,8,7,8],[1,2]))"
      ],
      "metadata": {
        "colab": {
          "base_uri": "https://localhost:8080/"
        },
        "id": "VBqma_o0Fp6P",
        "outputId": "befeb31e-5d53-4fa1-e7c6-0940ba15dfae"
      },
      "execution_count": 15,
      "outputs": [
        {
          "output_type": "stream",
          "name": "stdout",
          "text": [
            "[3, 4, 4, 5, 4, 6, 8, 7, 8]\n"
          ]
        }
      ]
    },
    {
      "cell_type": "markdown",
      "source": [
        "#Human Readable Time"
      ],
      "metadata": {
        "id": "K0bwVQ_FG48V"
      }
    },
    {
      "cell_type": "markdown",
      "source": [
        "DESCRIPTION:\n",
        "Write a function, which takes a non-negative integer (seconds) as input and returns the time in a human-readable format (HH:MM:SS)\n",
        "\n",
        "HH = hours, padded to 2 digits, range: 00 - 99\n",
        "MM = minutes, padded to 2 digits, range: 00 - 59\n",
        "SS = seconds, padded to 2 digits, range: 00 - 59\n",
        "The maximum time never exceeds 359999 (99:59:59)\n",
        "\n",
        "You can find some examples in the test fixtures."
      ],
      "metadata": {
        "id": "5dBmQtmVN3Sn"
      }
    },
    {
      "cell_type": "code",
      "source": [
        "def make_readable(seconds):\n",
        "  h, m = divmod(seconds, 3600)\n",
        "  m, s = divmod(m, 60)\n",
        "  return f'{h:02}:{m:02}:{s:02}'\n",
        "\n",
        "print(make_readable(3600))"
      ],
      "metadata": {
        "colab": {
          "base_uri": "https://localhost:8080/"
        },
        "id": "U-isSrpeN71-",
        "outputId": "a1087d8b-bee4-49ca-f97c-fd0d54e40cd5"
      },
      "execution_count": 47,
      "outputs": [
        {
          "output_type": "stream",
          "name": "stdout",
          "text": [
            "01:00:00\n"
          ]
        }
      ]
    },
    {
      "cell_type": "markdown",
      "source": [
        "#Build Tower"
      ],
      "metadata": {
        "id": "UeAlZ0F6SsFi"
      }
    },
    {
      "cell_type": "markdown",
      "source": [
        "DESCRIPTION:\n",
        "Build Tower\n",
        "Build a pyramid-shaped tower, as an array/list of strings, given a positive integer number of floors. A tower block is represented with \"*\" character.\n",
        "\n",
        "For example, a tower with 3 floors looks like this:\n",
        "\n",
        "[\n",
        "  \"  *  \",\n",
        "\n",
        "  \" *** \", \n",
        "\n",
        "  \"*****\"\n",
        "]\n",
        "\n",
        "And a tower with 6 floors looks like this:\n",
        "\n",
        "[\n",
        "  \"     *     \", \n",
        "\n",
        "  \"    ***    \", \n",
        "\n",
        "  \"   *****   \", \n",
        "\n",
        "  \"  *******  \",\n",
        "  \" ********* \", \n",
        "\n",
        "  \"***********\"\n",
        "]"
      ],
      "metadata": {
        "id": "QyiYQdisVfPz"
      }
    },
    {
      "cell_type": "code",
      "source": [
        "def tower_builder(n_floors):\n",
        "    len_n = 1+ (n_floors-1)*2\n",
        "    res = []\n",
        "    for i in range(1,n_floors+1):\n",
        "      st = ' '*((len_n -(1+(i-1)*2))//2)+'*'*(1+(i-1)*2)+' '*((len_n -(1+(i-1)*2))//2)\n",
        "      res.append(st)\n",
        "    return res\n",
        "    # build here\n",
        "\n",
        "print(*tower_builder(15),sep='\\n')"
      ],
      "metadata": {
        "colab": {
          "base_uri": "https://localhost:8080/"
        },
        "id": "LYuWnJAaVkZx",
        "outputId": "aa121dd3-1059-4051-ef2a-db660bd4e6f6"
      },
      "execution_count": 59,
      "outputs": [
        {
          "output_type": "stream",
          "name": "stdout",
          "text": [
            "              *              \n",
            "             ***             \n",
            "            *****            \n",
            "           *******           \n",
            "          *********          \n",
            "         ***********         \n",
            "        *************        \n",
            "       ***************       \n",
            "      *****************      \n",
            "     *******************     \n",
            "    *********************    \n",
            "   ***********************   \n",
            "  *************************  \n",
            " *************************** \n",
            "*****************************\n"
          ]
        }
      ]
    },
    {
      "cell_type": "markdown",
      "source": [
        "#The Supermarket Queue"
      ],
      "metadata": {
        "id": "DGuA3Xf6YX7v"
      }
    },
    {
      "cell_type": "markdown",
      "source": [
        "##DESCRIPTION:\n",
        "There is a queue for the self-checkout tills at the supermarket. Your task is write a function to calculate the total time required for all the customers to check out!\n",
        "\n",
        "##input\n",
        "customers: an array of positive integers representing the queue. Each integer represents a customer, and its value is the amount of time they require to check out.\n",
        "n: a positive integer, the number of checkout tills.\n",
        "output\n",
        "The function should return an integer, the total time required.\n",
        "\n",
        "##Important\n",
        "Please look at the examples and clarifications below, to ensure you understand the task correctly :)\n",
        "\n",
        "##Examples\n",
        "queue_time([5,3,4], 1)\n",
        "\n",
        "\\# should return 12\n",
        "\n",
        "\\# because when n=1, the total time is just the sum of the times\n",
        "\n",
        "queue_time([10,2,3,3], 2)\n",
        "\n",
        "\\# should return 10\n",
        "\n",
        "\\# because here n=2 and the 2nd, 3rd, and 4th people in the \n",
        "\n",
        "\\# queue finish before the 1st person has finished.\n",
        "\n",
        "queue_time([2,3,10], 2)\n",
        "\n",
        "\\# should return 12\n",
        "\n",
        "##Clarifications\n",
        "There is only ONE queue serving many tills, and\n",
        "The order of the queue NEVER changes, and\n",
        "The front person in the queue (i.e. the first element in the array/list) proceeds to a till as soon as it becomes free.\n",
        "N.B. You should assume that all the test input will be valid, as specified above.\n",
        "\n",
        "##P.S. \n",
        "The situation in this kata can be likened to the more-computer-science-related idea of a thread pool, with relation to running multiple processes at the same time: https://en.wikipedia.org/wiki/Thread_pool"
      ],
      "metadata": {
        "id": "6tSbmEh4YiOP"
      }
    },
    {
      "cell_type": "code",
      "source": [
        "def queue_time(customers, n):\n",
        "  "
      ],
      "metadata": {
        "id": "eFiAn1LGdvrq"
      },
      "execution_count": null,
      "outputs": []
    }
  ]
}